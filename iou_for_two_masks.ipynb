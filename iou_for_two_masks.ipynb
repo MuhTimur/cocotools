{
 "cells": [
  {
   "cell_type": "code",
   "execution_count": 1,
   "metadata": {},
   "outputs": [],
   "source": [
    "import numpy as np\n",
    "from PIL import Image, ImageDraw"
   ]
  },
  {
   "cell_type": "markdown",
   "metadata": {},
   "source": [
    "Convert images to matrixes"
   ]
  },
  {
   "cell_type": "code",
   "execution_count": 2,
   "metadata": {},
   "outputs": [],
   "source": [
    "img1 = Image.open('img1.png').convert('RGB')\n",
    "img2 = Image.open('img2.png').convert('RGB')\n",
    "\n",
    "arr1 = np.array(img1)\n",
    "arr2 = np.array(img2)"
   ]
  },
  {
   "cell_type": "code",
   "execution_count": 3,
   "metadata": {},
   "outputs": [
    {
     "data": {
      "image/png": "[encoded data removed]",
      "text/plain": [
       "<PIL.Image.Image image mode=RGB size=640x480 at 0x239D527AF88>"
      ]
     },
     "execution_count": 3,
     "metadata": {},
     "output_type": "execute_result"
    }
   ],
   "source": [
    "img1"
   ]
  },
  {
   "cell_type": "code",
   "execution_count": 4,
   "metadata": {
    "scrolled": false
   },
   "outputs": [
    {
     "data": {
      "image/png": "[encoded data removed]",
      "text/plain": [
       "<PIL.Image.Image image mode=RGB size=640x480 at 0x239D3D35E08>"
      ]
     },
     "execution_count": 4,
     "metadata": {},
     "output_type": "execute_result"
    }
   ],
   "source": [
    "img2"
   ]
  },
  {
   "cell_type": "markdown",
   "metadata": {},
   "source": [
    "Get IoU for these two images"
   ]
  },
  {
   "cell_type": "code",
   "execution_count": 5,
   "metadata": {},
   "outputs": [
    {
     "name": "stdout",
     "output_type": "stream",
     "text": [
      "IoU =  0.5880202655037516\n"
     ]
    }
   ],
   "source": [
    "intersection = np.logical_and(arr1, arr2)\n",
    "union = np.logical_or(arr1, arr2)\n",
    "iou_score = np.sum(intersection) / np.sum(union)\n",
    "print(\"IoU = \", iou_score)"
   ]
  },
  {
   "cell_type": "markdown",
   "metadata": {},
   "source": [
    "Get IoU for each color"
   ]
  },
  {
   "cell_type": "code",
   "execution_count": 6,
   "metadata": {},
   "outputs": [
    {
     "data": {
      "text/plain": [
       "{(0, 0, 0), (0, 128, 0), (128, 0, 0), (128, 128, 0)}"
      ]
     },
     "execution_count": 6,
     "metadata": {},
     "output_type": "execute_result"
    }
   ],
   "source": [
    "#create set of colors\n",
    "img1_colors = set()\n",
    "img2_colors = set()\n",
    "\n",
    "for color in img1.getcolors():\n",
    "    img1_colors.add(color[1]) \n",
    "for color in img1.getcolors():\n",
    "    img2_colors.add(color[1])\n",
    "\n",
    "colors = img1_colors.union(img2_colors)\n",
    "colors"
   ]
  },
  {
   "cell_type": "code",
   "execution_count": 7,
   "metadata": {
    "scrolled": true
   },
   "outputs": [
    {
     "name": "stdout",
     "output_type": "stream",
     "text": [
      "IoU score for (128 0 0 ) is 0.46\n",
      "IoU score for (128 128 0 ) is 0.55\n",
      "IoU score for (0 128 0 ) is 0.85\n",
      "IoU score for (0 0 0 ) is 0.98\n"
     ]
    }
   ],
   "source": [
    "width = 640\n",
    "height = 480\n",
    "\n",
    "iou_scores = list()\n",
    "mask1 = np.zeros(shape=(height,width))\n",
    "mask2 = np.zeros(shape=(height,width))\n",
    "\n",
    "for color in colors:\n",
    "    for i in range(0, height):\n",
    "        for j in range(0, width):\n",
    "            if list(arr1[i][j]) == list(color):\n",
    "                mask1[i][j] = True\n",
    "            else:\n",
    "                mask1[i][j] = False\n",
    "            if list(arr2[i][j]) == list(color):\n",
    "                mask2[i][j] = True\n",
    "            else:\n",
    "                mask2[i][j] = False\n",
    "    #count iou\n",
    "    intersection = np.logical_and(mask1, mask2)\n",
    "    union = np.logical_or(mask1, mask2)\n",
    "    iou_score = np.sum(intersection) / np.sum(union)\n",
    "    print(\"IoU score for \" + '(' + ''.join(str(e) + ' ' for e in list(color)) + ')' + \" is \" + '%.2f' % iou_score)\n",
    "    iou_scores.append(iou_score)"
   ]
  },
  {
   "cell_type": "code",
   "execution_count": null,
   "metadata": {},
   "outputs": [],
   "source": []
  }
 ],
 "metadata": {
  "kernelspec": {
   "display_name": "Python 3",
   "language": "python",
   "name": "python3"
  },
  "language_info": {
   "codemirror_mode": {
    "name": "ipython",
    "version": 3
   },
   "file_extension": ".py",
   "mimetype": "text/x-python",
   "name": "python",
   "nbconvert_exporter": "python",
   "pygments_lexer": "ipython3",
   "version": "3.7.4"
  }
 },
 "nbformat": 4,
 "nbformat_minor": 2
}
