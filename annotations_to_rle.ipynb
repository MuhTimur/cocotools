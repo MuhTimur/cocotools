{
 "cells": [
  {
   "cell_type": "code",
   "execution_count": 102,
   "metadata": {},
   "outputs": [],
   "source": [
    "#if you use Windows make the following instruction\n",
    "#!pip install git+https://github.com/philferriere/cocoapi.git#subdirectory=PythonAPI\n",
    "\n",
    "from pycocotools.coco import COCO\n",
    "import os\n",
    "import json"
   ]
  },
  {
   "cell_type": "code",
   "execution_count": 103,
   "metadata": {},
   "outputs": [],
   "source": [
    "#the function to convert mask json-file to RLE format\n",
    "\n",
    "def annotationFileToRLE(filename):\n",
    "    with open(filename) as f:\n",
    "        cocoTool = COCO(filename)\n",
    "        annotation_masks = json.load(f)\n",
    "    for annotation in annotation_masks['annotations']:\n",
    "        annotation['segmentation'] = cocoTool.annToRLE(annotation)\n",
    "        #decode it from byte to UTF\n",
    "        annotation['segmentation']['counts'] = annotation['segmentation']['counts'].decode(\"UTF-8\")\n",
    "    return annotation_masks"
   ]
  },
  {
   "cell_type": "code",
   "execution_count": 104,
   "metadata": {},
   "outputs": [],
   "source": [
    "#the function to convert all json-annotations in this folder to RLE format\n",
    "\n",
    "def allAnnotationFilesToRLE():\n",
    "    #create new folder or remove files in the old one\n",
    "    folder = 'masks'\n",
    "    if (os.path.isdir(folder)):\n",
    "        for filename in os.listdir(folder):\n",
    "            file_path = os.path.join(folder, filename)\n",
    "            try:\n",
    "                if os.path.isfile(file_path) or os.path.islink(file_path):\n",
    "                    os.unlink(file_path)\n",
    "                elif os.path.isdir(file_path):\n",
    "                    shutil.rmtree(file_path)\n",
    "            except Exception as e:\n",
    "                print('Failed to delete %s. Reason: %s' % (file_path, e))\n",
    "        os.rmdir(folder)\n",
    "    os.mkdir(folder)\n",
    "    \n",
    "    for filename in os.listdir('./'):\n",
    "        name, extension = os.path.splitext(filename)\n",
    "        if extension == '.json':\n",
    "            newFile = annotationFileToRLE(filename)\n",
    "            with open(\"./masks/\" + name + \"_mask\" + \".json\", \"w\") as fp:\n",
    "                json.dump(newFile , fp)\n",
    "    print('\\n\\nThe task is successfully completed!')\n"
   ]
  },
  {
   "cell_type": "code",
   "execution_count": 105,
   "metadata": {},
   "outputs": [
    {
     "name": "stdout",
     "output_type": "stream",
     "text": [
      "loading annotations into memory...\n",
      "Done (t=0.01s)\n",
      "creating index...\n",
      "index created!\n",
      "loading annotations into memory...\n",
      "Done (t=0.01s)\n",
      "creating index...\n",
      "index created!\n",
      "loading annotations into memory...\n",
      "Done (t=0.01s)\n",
      "creating index...\n",
      "index created!\n",
      "loading annotations into memory...\n",
      "Done (t=0.01s)\n",
      "creating index...\n",
      "index created!\n",
      "loading annotations into memory...\n",
      "Done (t=0.01s)\n",
      "creating index...\n",
      "index created!\n",
      "loading annotations into memory...\n",
      "Done (t=0.01s)\n",
      "creating index...\n",
      "index created!\n",
      "loading annotations into memory...\n",
      "Done (t=0.01s)\n",
      "creating index...\n",
      "index created!\n",
      "loading annotations into memory...\n",
      "Done (t=0.01s)\n",
      "creating index...\n",
      "index created!\n",
      "loading annotations into memory...\n",
      "Done (t=0.01s)\n",
      "creating index...\n",
      "index created!\n",
      "loading annotations into memory...\n",
      "Done (t=0.01s)\n",
      "creating index...\n",
      "index created!\n",
      "loading annotations into memory...\n",
      "Done (t=0.01s)\n",
      "creating index...\n",
      "index created!\n",
      "loading annotations into memory...\n",
      "Done (t=0.01s)\n",
      "creating index...\n",
      "index created!\n",
      "\n",
      "\n",
      "The task is successfully completed!\n"
     ]
    }
   ],
   "source": [
    "allAnnotationFilesToRLE()"
   ]
  },
  {
   "cell_type": "code",
   "execution_count": null,
   "metadata": {},
   "outputs": [],
   "source": []
  }
 ],
 "metadata": {
  "kernelspec": {
   "display_name": "Python 3",
   "language": "python",
   "name": "python3"
  },
  "language_info": {
   "codemirror_mode": {
    "name": "ipython",
    "version": 3
   },
   "file_extension": ".py",
   "mimetype": "text/x-python",
   "name": "python",
   "nbconvert_exporter": "python",
   "pygments_lexer": "ipython3",
   "version": "3.7.4"
  }
 },
 "nbformat": 4,
 "nbformat_minor": 2
}
